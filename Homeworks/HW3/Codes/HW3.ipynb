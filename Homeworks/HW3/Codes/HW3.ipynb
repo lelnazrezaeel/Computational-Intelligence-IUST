{
  "cells": [
    {
      "cell_type": "code",
      "source": [
        "pip install simpful"
      ],
      "metadata": {
        "colab": {
          "base_uri": "https://localhost:8080/"
        },
        "id": "DxFHykmQNLne",
        "outputId": "1ca5efda-ad01-4edd-b96d-527f45bb051e"
      },
      "execution_count": 3,
      "outputs": [
        {
          "output_type": "stream",
          "name": "stdout",
          "text": [
            "Looking in indexes: https://pypi.org/simple, https://us-python.pkg.dev/colab-wheels/public/simple/\n",
            "Collecting simpful\n",
            "  Downloading simpful-2.9.0-py3-none-any.whl (30 kB)\n",
            "Requirement already satisfied: requests in /usr/local/lib/python3.8/dist-packages (from simpful) (2.25.1)\n",
            "Requirement already satisfied: scipy>=1.0.0 in /usr/local/lib/python3.8/dist-packages (from simpful) (1.7.3)\n",
            "Requirement already satisfied: numpy>=1.12.0 in /usr/local/lib/python3.8/dist-packages (from simpful) (1.21.6)\n",
            "Requirement already satisfied: chardet<5,>=3.0.2 in /usr/local/lib/python3.8/dist-packages (from requests->simpful) (4.0.0)\n",
            "Requirement already satisfied: certifi>=2017.4.17 in /usr/local/lib/python3.8/dist-packages (from requests->simpful) (2022.12.7)\n",
            "Requirement already satisfied: urllib3<1.27,>=1.21.1 in /usr/local/lib/python3.8/dist-packages (from requests->simpful) (1.24.3)\n",
            "Requirement already satisfied: idna<3,>=2.5 in /usr/local/lib/python3.8/dist-packages (from requests->simpful) (2.10)\n",
            "Installing collected packages: simpful\n",
            "Successfully installed simpful-2.9.0\n"
          ]
        }
      ]
    },
    {
      "cell_type": "code",
      "execution_count": 4,
      "metadata": {
        "id": "0Jbusb6si8oH"
      },
      "outputs": [],
      "source": [
        "import math\n",
        "import numpy as np\n",
        "import matplotlib.pyplot as plt\n",
        "import sys, os\n",
        "from simpful import *"
      ]
    },
    {
      "cell_type": "markdown",
      "metadata": {
        "id": "ZEEVPcuMiJvr"
      },
      "source": [
        "# **Q1. Hopfield Network**"
      ]
    },
    {
      "cell_type": "code",
      "execution_count": null,
      "metadata": {
        "id": "a18CuA-nhS0y"
      },
      "outputs": [],
      "source": [
        "class Hopfield:\n",
        "  def __init__(self, N):\n",
        "    self.N = N\n",
        "    self.P = 0\n",
        "    self.W = np.zeros((N, N), dtype=np.int32)\n",
        "        \n",
        "  def learning(self, P):\n",
        "    for p in P:\n",
        "      self.W += np.dot(np.vstack(p), np.vstack(p).T)\n",
        "    np.fill_diagonal(self.W, 0.0)\n",
        "    return self.W\n",
        "\n",
        "  def predict(self, y, epochs):\n",
        "    i = np.array(y)\n",
        "    yhats_losses = [(i, math.inf)]\n",
        "    stable = False\n",
        "    for j in range(epochs):\n",
        "      z = np.dot(i, self.W)\n",
        "      y_hat = np.sign(z)\n",
        "      equality = np.equal(y, y_hat)\n",
        "      temp = np.count_nonzero(equality)\n",
        "      loss = self.P - temp\n",
        "      yhats_losses.append((y_hat, loss))\n",
        "      stability = np.array_equal(yhats_losses[-1][0], yhats_losses[-2][0])\n",
        "      if (stability):\n",
        "        if j == 0:\n",
        "          stable = True\n",
        "        return y_hat, stable\n",
        "\n",
        "    yp = min(result, key = lambda t: t[1])[0]\n",
        "    return yp, stable"
      ]
    },
    {
      "cell_type": "markdown",
      "metadata": {
        "id": "xm2q2EMk2vzR"
      },
      "source": [
        "## Q1.a"
      ]
    },
    {
      "cell_type": "code",
      "execution_count": null,
      "metadata": {
        "colab": {
          "base_uri": "https://localhost:8080/"
        },
        "id": "Cu5PnzRU2vR-",
        "outputId": "9bc7dd52-2e8c-41e6-e762-7af07660ff42"
      },
      "outputs": [
        {
          "name": "stdout",
          "output_type": "stream",
          "text": [
            "pattern:  [-1 -1  1 -1  1 -1 -1  1]   Result:  [-1 -1  1 -1  1 -1 -1  1]   Stability:  True\n",
            "pattern:  [-1 -1 -1 -1 -1  1 -1 -1]   Result:  [-1 -1 -1 -1 -1  1 -1 -1]   Stability:  True\n",
            "pattern:  [-1  1  1 -1 -1  1 -1  1]   Result:  [-1  1  1 -1 -1  1 -1  1]   Stability:  True\n"
          ]
        }
      ],
      "source": [
        "x1 =  np.array([-1, -1, 1, -1, 1, -1, -1, 1])\n",
        "x2 = np.array([-1, -1, -1, -1, -1, 1, -1, -1])\n",
        "x3 = np.array([-1, 1, 1, -1, -1, 1, -1, 1])\n",
        "patterns = np.array([x1, x2, x3])\n",
        "hopfield = Hopfield(8)\n",
        "hopfield.learning(patterns)\n",
        "for pattern in patterns:\n",
        "  result, stability = hopfield.predict(pattern, epochs=10)\n",
        "  print(\"pattern: \", pattern,\" \", \"Result: \", result, \" \", \"Stability: \", stability)"
      ]
    },
    {
      "cell_type": "markdown",
      "metadata": {
        "id": "PrFnyiwQKE7Q"
      },
      "source": [
        "## Q1.b"
      ]
    },
    {
      "cell_type": "code",
      "execution_count": null,
      "metadata": {
        "colab": {
          "base_uri": "https://localhost:8080/"
        },
        "id": "SazVXHW1KJ2C",
        "outputId": "f52b8c93-fe07-43e7-aadf-4032ab6e3c4d"
      },
      "outputs": [
        {
          "name": "stdout",
          "output_type": "stream",
          "text": [
            "pattern:  [ 1 -1  1 -1  1 -1 -1  1]   Result:  [-1 -1  1 -1  1 -1 -1  1]   Stability:  False\n",
            "pattern:  [ 1  1 -1 -1 -1  1 -1 -1]   Result:  [-1 -1 -1  1 -1  1  1 -1]   Stability:  False\n",
            "pattern:  [ 1  1  1 -1  1  1 -1  1]   Result:  [-1  1  1 -1 -1 -1 -1  1]   Stability:  False\n"
          ]
        }
      ],
      "source": [
        "x1n =  np.array([1, -1, 1, -1, 1, -1, -1, 1])\n",
        "x2n = np.array( [1, 1, -1, -1, -1, 1, -1, -1])\n",
        "x3n = np.array([1, 1, 1, -1, 1, 1, -1, 1])\n",
        "patterns = np.array([x1n, x2n, x3n])\n",
        "for pattern in patterns:\n",
        "  result, stability = hopfield.predict(pattern, epochs=10)\n",
        "  print(\"pattern: \", pattern,\" \", \"Result: \", result, \" \", \"Stability: \", stability)"
      ]
    },
    {
      "cell_type": "markdown",
      "metadata": {
        "id": "IKBGxm-Op0z2"
      },
      "source": [
        "## Q1.c"
      ]
    },
    {
      "cell_type": "code",
      "execution_count": null,
      "metadata": {
        "colab": {
          "base_uri": "https://localhost:8080/"
        },
        "id": "5BbDcRmHpymg",
        "outputId": "7f0bdd05-22dd-43b3-da9c-dfe604b52f2e"
      },
      "outputs": [
        {
          "name": "stdout",
          "output_type": "stream",
          "text": [
            "Stable patterns are: \n",
            "[-1 -1 -1 -1 -1  1 -1 -1]\n",
            "[-1 -1  1 -1  1 -1 -1  1]\n",
            "[-1  1  1 -1 -1  1 -1  1]\n",
            "[ 1 -1 -1  1  1 -1  1 -1]\n",
            "[ 1  1 -1  1 -1  1  1 -1]\n",
            "[ 1  1  1  1  1 -1  1  1]\n",
            "The number of stable patterns is:  6\n"
          ]
        }
      ],
      "source": [
        "patterns = []\n",
        "for i in range(256):\n",
        "  x = bin(i)[2:].zfill(8)\n",
        "  pattern = [2*int(x[i])-1 for i in range(8)]\n",
        "  patterns.append(pattern)\n",
        "\n",
        "count = 0\n",
        "print(\"Stable patterns are: \")\n",
        "for pattern in patterns:\n",
        "  result, stability = hopfield.predict(pattern, epochs=10)\n",
        "  if(stability):\n",
        "    print(result)\n",
        "    count += 1\n",
        "print(\"The number of stable patterns is: \", count)"
      ]
    },
    {
      "cell_type": "markdown",
      "metadata": {
        "id": "JXi_vgTfKCbu"
      },
      "source": [
        "#**Q3**"
      ]
    },
    {
      "cell_type": "code",
      "execution_count": 5,
      "metadata": {
        "id": "o5ws8xHJKMrU"
      },
      "outputs": [],
      "source": [
        "temperature = AutoTriangle(3, terms=['cool', 'norminal', 'warm'], universe_of_discourse=[0, 50])\n",
        "humidity = AutoTriangle(5, terms=['very_low', 'low', 'normal', 'high', 'very_high'], universe_of_discourse=[0, 100])\n",
        "rain_amount = AutoTriangle(5, terms=['very_low', 'low', 'normal', 'high', 'very_high'], universe_of_discourse=[0, 1000])\n",
        "height = AutoTriangle(3, terms=['low', 'normal', 'high'], universe_of_discourse=[0, 1000])"
      ]
    },
    {
      "cell_type": "code",
      "source": [
        "FS = FuzzySystem()\n",
        "FS.add_linguistic_variable(\"today_tmp\", temperature)\n",
        "FS.add_linguistic_variable(\"one_prev_day\", temperature)\n",
        "FS.add_linguistic_variable(\"two_prev_day\", temperature)\n",
        "FS.add_linguistic_variable(\"three_prev_day\", temperature)\n",
        "FS.add_linguistic_variable(\"humidity\", humidity)\n",
        "FS.add_linguistic_variable(\"rain_amount\", rain_amount)\n",
        "FS.add_linguistic_variable(\"height\", height)"
      ],
      "metadata": {
        "id": "32LQLrg_PKkb",
        "outputId": "b33b72fd-7030-4371-8783-0ae3f3090fff",
        "colab": {
          "base_uri": "https://localhost:8080/"
        }
      },
      "execution_count": 6,
      "outputs": [
        {
          "output_type": "stream",
          "name": "stdout",
          "text": [
            "  ____  __  _  _  ____  ____  _  _  __   \n",
            " / ___)(  )( \\/ )(  _ \\(  __)/ )( \\(  ) v2.9.0 \n",
            " \\___ \\ )( / \\/ \\ ) __/ ) _) ) \\/ (/ (_/\\ \n",
            " (____/(__)\\_)(_/(__)  (__)  \\____/\\____/\n",
            "\n",
            " Created by Marco S. Nobile (m.s.nobile@tue.nl)\n",
            " and Simone Spolaor (simone.spolaor@unimib.it)\n",
            "\n"
          ]
        }
      ]
    },
    {
      "cell_type": "code",
      "source": [
        "Rules = [\"IF (one_prev_day IS cool) AND (rain_amount IS high) THEN (today_tmp IS cool)\",\n",
        "        \"IF (one_prev_day IS norminal) AND (rain_amount IS low) THEN (today_tmp IS norminal)\",\n",
        "        \"IF (height IS high) AND (rain_amount IS high) THEN (today_tmp IS cool)\",\n",
        "        \"IF (one_prev_day IS norminal) AND (two_prev_day IS cool) THEN (today_tmp IS norminal)\",\n",
        "        \"IF (height IS low) AND (rain_amount IS very_low) THEN (today_tmp IS warm)\",\n",
        "        \"IF (one_prev_day IS cool) OR (rain_amount IS high) THEN (today_tmp IS warm)\",\n",
        "        \"IF (three_prev_day IS cool) OR (two_prev_day IS cool) THEN (today_tmp IS cool)\",\n",
        "        \"IF (height IS normal)  OR (rain_amount IS very_low) THEN (today_tmp IS norminal)\",\n",
        "        \"IF (three_prev_day IS cool) AND (two_prev_day IS warm) AND (one_prev_day IS warm) THEN (today_tmp IS warm)\",\n",
        "        \"IF (rain_amount IS high) AND (humidity IS high) THEN (today_tmp IS cool)\",\n",
        "        \"IF (humidity IS low) THEN (today_tmp IS warm)\"]\n",
        "FS.add_rules(Rules, verbose=True)"
      ],
      "metadata": {
        "id": "75ysylOqPQhS",
        "outputId": "cd64fd57-c2c0-4aa3-cce7-75d1d785014f",
        "colab": {
          "base_uri": "https://localhost:8080/"
        }
      },
      "execution_count": 7,
      "outputs": [
        {
          "output_type": "stream",
          "name": "stdout",
          "text": [
            " * Regular expression is not matching with single atomic clause\n",
            " * Looking for an operator in (one_prev_day IS cool) AND (rain_amount IS high)\n",
            "  -- Found (one_prev_day IS cool) *AND* (rain_amount IS high)\n",
            " * Simple clause with parentheses matched\n",
            " * Rule: c.(one_prev_day IS cool)\n",
            " * Simple clause with parentheses matched\n",
            " * Rule: c.(rain_amount IS high)\n",
            " * Added rule IF f.(c.(one_prev_day IS cool) AND c.(rain_amount IS high)) THEN ('today_tmp', 'cool')\n",
            "\n",
            " * Regular expression is not matching with single atomic clause\n",
            " * Looking for an operator in (one_prev_day IS norminal) AND (rain_amount IS low)\n",
            "  -- Found (one_prev_day IS norminal) *AND* (rain_amount IS low)\n",
            " * Simple clause with parentheses matched\n",
            " * Rule: c.(one_prev_day IS norminal)\n",
            " * Simple clause with parentheses matched\n",
            " * Rule: c.(rain_amount IS low)\n",
            " * Added rule IF f.(c.(one_prev_day IS norminal) AND c.(rain_amount IS low)) THEN ('today_tmp', 'norminal')\n",
            "\n",
            " * Regular expression is not matching with single atomic clause\n",
            " * Looking for an operator in (height IS high) AND (rain_amount IS high)\n",
            "  -- Found (height IS high) *AND* (rain_amount IS high)\n",
            " * Simple clause with parentheses matched\n",
            " * Rule: c.(height IS high)\n",
            " * Simple clause with parentheses matched\n",
            " * Rule: c.(rain_amount IS high)\n",
            " * Added rule IF f.(c.(height IS high) AND c.(rain_amount IS high)) THEN ('today_tmp', 'cool')\n",
            "\n",
            " * Regular expression is not matching with single atomic clause\n",
            " * Looking for an operator in (one_prev_day IS norminal) AND (two_prev_day IS cool)\n",
            "  -- Found (one_prev_day IS norminal) *AND* (two_prev_day IS cool)\n",
            " * Simple clause with parentheses matched\n",
            " * Rule: c.(one_prev_day IS norminal)\n",
            " * Simple clause with parentheses matched\n",
            " * Rule: c.(two_prev_day IS cool)\n",
            " * Added rule IF f.(c.(one_prev_day IS norminal) AND c.(two_prev_day IS cool)) THEN ('today_tmp', 'norminal')\n",
            "\n",
            " * Regular expression is not matching with single atomic clause\n",
            " * Looking for an operator in (height IS low) AND (rain_amount IS very_low)\n",
            "  -- Found (height IS low) *AND* (rain_amount IS very_low)\n",
            " * Simple clause with parentheses matched\n",
            " * Rule: c.(height IS low)\n",
            " * Simple clause with parentheses matched\n",
            " * Rule: c.(rain_amount IS very_low)\n",
            " * Added rule IF f.(c.(height IS low) AND c.(rain_amount IS very_low)) THEN ('today_tmp', 'warm')\n",
            "\n",
            " * Regular expression is not matching with single atomic clause\n",
            " * Looking for an operator in (one_prev_day IS cool) OR (rain_amount IS high)\n",
            "  -- Found (one_prev_day IS cool) *OR* (rain_amount IS high)\n",
            " * Simple clause with parentheses matched\n",
            " * Rule: c.(one_prev_day IS cool)\n",
            " * Simple clause with parentheses matched\n",
            " * Rule: c.(rain_amount IS high)\n",
            " * Added rule IF f.(c.(one_prev_day IS cool) OR c.(rain_amount IS high)) THEN ('today_tmp', 'warm')\n",
            "\n",
            " * Regular expression is not matching with single atomic clause\n",
            " * Looking for an operator in (three_prev_day IS cool) OR (two_prev_day IS cool)\n",
            "  -- Found (three_prev_day IS cool) *OR* (two_prev_day IS cool)\n",
            " * Simple clause with parentheses matched\n",
            " * Rule: c.(three_prev_day IS cool)\n",
            " * Simple clause with parentheses matched\n",
            " * Rule: c.(two_prev_day IS cool)\n",
            " * Added rule IF f.(c.(three_prev_day IS cool) OR c.(two_prev_day IS cool)) THEN ('today_tmp', 'cool')\n",
            "\n",
            " * Regular expression is not matching with single atomic clause\n",
            " * Looking for an operator in (height IS normal)  OR (rain_amount IS very_low)\n",
            "  -- Found (height IS normal) *OR* (rain_amount IS very_low)\n",
            " * Simple clause with parentheses matched\n",
            " * Rule: c.(height IS normal)\n",
            " * Simple clause with parentheses matched\n",
            " * Rule: c.(rain_amount IS very_low)\n",
            " * Added rule IF f.(c.(height IS normal) OR c.(rain_amount IS very_low)) THEN ('today_tmp', 'norminal')\n",
            "\n",
            " * Regular expression is not matching with single atomic clause\n",
            " * Looking for an operator in (three_prev_day IS cool) AND (two_prev_day IS warm) AND (one_prev_day IS warm)\n",
            "  -- Found (three_prev_day IS cool) *AND* (two_prev_day IS warm) AND (one_prev_day IS warm)\n",
            " * Simple clause with parentheses matched\n",
            " * Rule: c.(three_prev_day IS cool)\n",
            " * Regular expression is not matching with single atomic clause\n",
            " * Looking for an operator in (two_prev_day IS warm) AND (one_prev_day IS warm)\n",
            "  -- Found (two_prev_day IS warm) *AND* (one_prev_day IS warm)\n",
            " * Simple clause with parentheses matched\n",
            " * Rule: c.(two_prev_day IS warm)\n",
            " * Simple clause with parentheses matched\n",
            " * Rule: c.(one_prev_day IS warm)\n",
            " * Added rule IF f.(c.(three_prev_day IS cool) AND f.(c.(two_prev_day IS warm) AND c.(one_prev_day IS warm))) THEN ('today_tmp', 'warm')\n",
            "\n",
            " * Regular expression is not matching with single atomic clause\n",
            " * Looking for an operator in (rain_amount IS high) AND (humidity IS high)\n",
            "  -- Found (rain_amount IS high) *AND* (humidity IS high)\n",
            " * Simple clause with parentheses matched\n",
            " * Rule: c.(rain_amount IS high)\n",
            " * Simple clause with parentheses matched\n",
            " * Rule: c.(humidity IS high)\n",
            " * Added rule IF f.(c.(rain_amount IS high) AND c.(humidity IS high)) THEN ('today_tmp', 'cool')\n",
            "\n",
            " * Simple clause with parentheses matched\n",
            " * Rule: c.(humidity IS low)\n",
            " * Added rule IF c.(humidity IS low) THEN ('today_tmp', 'warm')\n",
            "\n",
            " * 11 rules successfully added\n"
          ]
        }
      ]
    },
    {
      "cell_type": "code",
      "source": [
        "FS.set_variable(\"one_prev_day\", 15)\n",
        "FS.set_variable(\"two_prev_day\", 10)\n",
        "FS.set_variable(\"three_prev_day\", 13)\n",
        "FS.set_variable(\"humidity\", 50)\n",
        "FS.set_variable(\"rain_amount\", 600)\n",
        "FS.set_variable(\"height\", 400)"
      ],
      "metadata": {
        "id": "HHKnBVliPhwy"
      },
      "execution_count": 8,
      "outputs": []
    },
    {
      "cell_type": "code",
      "source": [
        "result = FS.inference()\n",
        "print(result)"
      ],
      "metadata": {
        "id": "zfaixPtAQFJL",
        "outputId": "8b0371a5-1557-40b6-f9a9-0cc2e46ed3eb",
        "colab": {
          "base_uri": "https://localhost:8080/"
        }
      },
      "execution_count": 9,
      "outputs": [
        {
          "output_type": "stream",
          "name": "stdout",
          "text": [
            "{'today_tmp': 23.55766007779124}\n"
          ]
        }
      ]
    }
  ],
  "metadata": {
    "colab": {
      "provenance": []
    },
    "kernelspec": {
      "display_name": "base",
      "language": "python",
      "name": "python3"
    },
    "language_info": {
      "name": "python",
      "version": "3.9.7 (default, Sep 16 2021, 16:59:28) [MSC v.1916 64 bit (AMD64)]"
    },
    "vscode": {
      "interpreter": {
        "hash": "a077222d77dfe082b8f1dd562ad70e458ac2ab76993a0b248ab0476e32e9e8dd"
      }
    }
  },
  "nbformat": 4,
  "nbformat_minor": 0
}