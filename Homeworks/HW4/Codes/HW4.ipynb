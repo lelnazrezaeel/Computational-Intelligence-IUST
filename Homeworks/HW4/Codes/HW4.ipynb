{
  "nbformat": 4,
  "nbformat_minor": 0,
  "metadata": {
    "colab": {
      "provenance": []
    },
    "kernelspec": {
      "name": "python3",
      "display_name": "Python 3"
    },
    "language_info": {
      "name": "python"
    }
  },
  "cells": [
    {
      "cell_type": "code",
      "source": [
        "import numpy as np\n",
        "import pandas as pd\n",
        "import random as rd\n",
        "from random import randint\n",
        "import matplotlib.pyplot as plt"
      ],
      "metadata": {
        "id": "51EdtA5OIAas"
      },
      "execution_count": 8,
      "outputs": []
    },
    {
      "cell_type": "markdown",
      "source": [
        "#**<font color=#8fa6f7>Items</font>**"
      ],
      "metadata": {
        "id": "Ms5kOb_Whhfk"
      }
    },
    {
      "cell_type": "code",
      "source": [
        "item_number = np.array([1, 2, 3, 4, 5, 6, 7, 8])\n",
        "weights = np.array([2, 4, 1, 3, 5, 1, 7, 4])\n",
        "costs = np.array([30, 10, 20, 50, 70, 15, 40, 25])\n",
        "weight_limit = 25"
      ],
      "metadata": {
        "id": "zG6ykeqXhh4C"
      },
      "execution_count": 10,
      "outputs": []
    },
    {
      "cell_type": "markdown",
      "source": [
        "#**<font color=\"#eb426c\"> 1. Initialize Population</font>**"
      ],
      "metadata": {
        "id": "iGMB6byeJBaN"
      }
    },
    {
      "cell_type": "code",
      "source": [
        "pop_size = (8, item_number.shape[0])\n",
        "initial_population = np.random.randint(2, size = pop_size)\n",
        "initial_population = initial_population.astype(int)\n",
        "num_generations = 50"
      ],
      "metadata": {
        "id": "xwBDeSgMJ5k3"
      },
      "execution_count": 11,
      "outputs": []
    },
    {
      "cell_type": "markdown",
      "source": [
        "#**<font color=\"orange\"> 2. Define fitness function</font>**"
      ],
      "metadata": {
        "id": "CrvL8v-w2-A5"
      }
    },
    {
      "cell_type": "code",
      "execution_count": 24,
      "metadata": {
        "id": "iWV9Z6I82O5h"
      },
      "outputs": [],
      "source": [
        "def fitness_calculator(w, c, pop, L):\n",
        "  score1 =0\n",
        "  score2 = 0\n",
        "  fitness = np.empty(pop.shape[0])\n",
        "  for i in range(pop.shape[0]):\n",
        "    score1 = np.sum(pop[i] * c)\n",
        "    score2 = np.sum(pop[i] * w)\n",
        "    if score2 <= L:\n",
        "      fitness[i] = score1\n",
        "    else:\n",
        "      fitness[i] = 0\n",
        "  return fitness.astype(int)  "
      ]
    },
    {
      "cell_type": "markdown",
      "source": [
        "#**<font color=\"#fcef2d\"> 3. Roulette Selection</font>**"
      ],
      "metadata": {
        "id": "xo_9LTEqSuNK"
      }
    },
    {
      "cell_type": "code",
      "source": [
        "def selection(fitness, num_parents, pop):\n",
        "  fitness = list(fitness)\n",
        "  parents = np.empty((num_parents, pop.shape[1]))\n",
        "  for i in range(num_parents):\n",
        "    max_fitness_idx = np.where(fitness == np.max(fitness))\n",
        "    parents[i,:] = pop[max_fitness_idx[0][0], :]\n",
        "    fitness[max_fitness_idx[0][0]] = -999999\n",
        "  return parents"
      ],
      "metadata": {
        "id": "JsQuAbl3TtjX"
      },
      "execution_count": 41,
      "outputs": []
    },
    {
      "cell_type": "markdown",
      "source": [
        "#**<font color=\"#ac6af7\"> 4. Crossover</font>**"
      ],
      "metadata": {
        "id": "9JKL7sW0WB7Y"
      }
    },
    {
      "cell_type": "code",
      "source": [
        "def crossover(parents, num_offsprings):\n",
        "  offsprings = np.empty((num_offsprings, parents.shape[1]))\n",
        "  crossover_point = int(parents.shape[1]/2)\n",
        "  crossover_rate = 0.8\n",
        "  i=0\n",
        "  while (parents.shape[0] < num_offsprings):\n",
        "    parent1_index = i%parents.shape[0]\n",
        "    parent2_index = (i+1)%parents.shape[0]\n",
        "    x = rd.random()\n",
        "    if x > crossover_rate:\n",
        "      continue\n",
        "    parent1_index = i%parents.shape[0]\n",
        "    parent2_index = (i+1)%parents.shape[0]\n",
        "    offsprings[i,0:crossover_point] = parents[parent1_index,0:crossover_point]\n",
        "    offsprings[i,crossover_point:] = parents[parent2_index,crossover_point:]\n",
        "    i=+1\n",
        "  return offsprings"
      ],
      "metadata": {
        "id": "cArX0sefXpE4"
      },
      "execution_count": 16,
      "outputs": []
    },
    {
      "cell_type": "markdown",
      "source": [
        "#**<font color=\"#fa93f8\"> 5. Mutation</font>**"
      ],
      "metadata": {
        "id": "7qRlMWSCZUFs"
      }
    },
    {
      "cell_type": "code",
      "source": [
        "def mutation(offsprings):\n",
        "  mutants = np.empty((offsprings.shape))\n",
        "  mutation_rate = 0.4\n",
        "  for i in range(mutants.shape[0]):\n",
        "    random_value = rd.random()\n",
        "    mutants[i,:] = offsprings[i,:]\n",
        "    if random_value > mutation_rate:\n",
        "      continue\n",
        "    int_random_value = randint(0,offsprings.shape[1]-1)    \n",
        "    if mutants[i,int_random_value] == 0 :\n",
        "      mutants[i,int_random_value] = 1\n",
        "    else :\n",
        "      mutants[i,int_random_value] = 0\n",
        "  return mutants   "
      ],
      "metadata": {
        "id": "8p2E7Z0mZdqj"
      },
      "execution_count": 51,
      "outputs": []
    },
    {
      "cell_type": "markdown",
      "source": [
        "#**<font color=\"#f5bc67\"> Optimum Solution</font>**"
      ],
      "metadata": {
        "id": "WoKyvtjfgrAq"
      }
    },
    {
      "cell_type": "code",
      "source": [
        "def optimize(w, c, pop, pop_size, N, L):\n",
        "    parameters, fitness_history = [], []\n",
        "    num_parents = int(pop_size[0]/2)\n",
        "    num_offsprings = pop_size[0] - num_parents \n",
        "    for i in range(N):\n",
        "      fitness = fitness_calculator(w, c, pop, L)\n",
        "      fitness_history.append(fitness)\n",
        "      parents = selection(fitness, num_parents, pop)\n",
        "      offsprings = crossover(parents, num_offsprings)\n",
        "      mutants = mutation(offsprings)\n",
        "      pop[0:parents.shape[0], :] = parents\n",
        "      pop[parents.shape[0]:, :] = mutants\n",
        "        \n",
        "    fitness_last_gen = fitness_calculator(w, c, pop, L)      \n",
        "    max_fitness = np.where(fitness_last_gen == np.max(fitness_last_gen))\n",
        "    parameters.append(pop[max_fitness[0][0],:])\n",
        "    return parameters, fitness_history"
      ],
      "metadata": {
        "id": "8cpx3oLEhA-i"
      },
      "execution_count": 53,
      "outputs": []
    },
    {
      "cell_type": "markdown",
      "source": [
        "#**<font color=\"cyan\"> The Order Of Items</font>**"
      ],
      "metadata": {
        "id": "HT9sS-SjPgDh"
      }
    },
    {
      "cell_type": "code",
      "source": [
        "parameters, fitness_history = optimize(weights, costs, initial_population, pop_size, num_generations, weight_limit)\n",
        "selected_items = item_number * parameters\n",
        "print('\\nSelected items that will maximize the knapsack without breaking it:')\n",
        "for i in range(selected_items.shape[1]):\n",
        "  if selected_items[0][i] != 0:\n",
        "     print('{}\\n'.format(selected_items[0][i]))"
      ],
      "metadata": {
        "id": "4Hp14djuPgt8",
        "outputId": "9daafa7a-8c55-4897-bafe-9c26a7abb79e",
        "colab": {
          "base_uri": "https://localhost:8080/"
        }
      },
      "execution_count": 54,
      "outputs": [
        {
          "output_type": "stream",
          "name": "stdout",
          "text": [
            "\n",
            "Selected items that will maximize the knapsack without breaking it:\n",
            "1\n",
            "\n",
            "2\n",
            "\n",
            "4\n",
            "\n",
            "5\n",
            "\n",
            "7\n",
            "\n",
            "8\n",
            "\n"
          ]
        }
      ]
    }
  ]
}