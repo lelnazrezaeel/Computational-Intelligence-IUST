{
  "nbformat": 4,
  "nbformat_minor": 0,
  "metadata": {
    "colab": {
      "provenance": []
    },
    "kernelspec": {
      "name": "python3",
      "display_name": "Python 3"
    },
    "language_info": {
      "name": "python"
    }
  },
  "cells": [
    {
      "cell_type": "code",
      "execution_count": 10,
      "metadata": {
        "id": "uTv4XMeqJ5GQ"
      },
      "outputs": [],
      "source": [
        "from tensorflow import keras\n",
        "import numpy as np\n",
        "from matplotlib import pyplot as plt\n",
        "from keras.utils import np_utils\n",
        "from tensorflow.keras.models import Sequential\n",
        "from tensorflow.keras import layers"
      ]
    },
    {
      "cell_type": "markdown",
      "source": [
        "Load dataset"
      ],
      "metadata": {
        "id": "K_rSxgOUNNuk"
      }
    },
    {
      "cell_type": "code",
      "source": [
        "(x_train, y_train), (x_test, y_test) = keras.datasets.mnist.load_data()"
      ],
      "metadata": {
        "colab": {
          "base_uri": "https://localhost:8080/"
        },
        "id": "FnDH7vGpNSiq",
        "outputId": "c1bc7a72-1dd6-4429-c59c-227279b91a72"
      },
      "execution_count": 5,
      "outputs": [
        {
          "output_type": "stream",
          "name": "stdout",
          "text": [
            "Downloading data from https://storage.googleapis.com/tensorflow/tf-keras-datasets/mnist.npz\n",
            "11490434/11490434 [==============================] - 1s 0us/step\n"
          ]
        }
      ]
    },
    {
      "cell_type": "code",
      "source": [
        "x_train = x_train.astype(float) / 255.\n",
        "x_test  = x_test.astype(float) / 255."
      ],
      "metadata": {
        "id": "El-TCY2tO3Lb"
      },
      "execution_count": 6,
      "outputs": []
    },
    {
      "cell_type": "markdown",
      "source": [
        "Convert to categorical"
      ],
      "metadata": {
        "id": "ub6VRHJDPpSg"
      }
    },
    {
      "cell_type": "code",
      "source": [
        "x_train_flatten = x_train.reshape(x_train.shape[0], -1)\n",
        "y_train_flatten = y_train.reshape(x_train.shape[0], -1)\n",
        "x_test_flatten = x_test.reshape(x_test.shape[0], -1)\n",
        "y_test_flatten = y_test.reshape(x_test.shape[0], -1)\n",
        "\n",
        "y_train_categorical = np_utils.to_categorical(y_train_flatten, 10)\n",
        "y_test_categorical = np_utils.to_categorical(y_test_flatten, 10)"
      ],
      "metadata": {
        "id": "84uRGkq5PzT3"
      },
      "execution_count": 9,
      "outputs": []
    },
    {
      "cell_type": "markdown",
      "source": [
        "Sequential model"
      ],
      "metadata": {
        "id": "wfOOfqSuQiA4"
      }
    },
    {
      "cell_type": "code",
      "source": [
        "model_temp = Sequential()\n",
        "\n",
        "# Input Layer\n",
        "model_temp.add(layers.Dense(128, input_shape=(x_train.shape[1] * x_train.shape[2],)))\n",
        "model_temp.add(layers.Activation('relu'))\n",
        "\n",
        "# Hidden Layer\n",
        "model_temp.add(layers.Dense(128))\n",
        "model_temp.add(layers.Activation('relu'))\n",
        "\n",
        "# Output Layer\n",
        "model_temp.add(layers.Dense(10))\n",
        "model_temp.add(layers.Activation('softmax'))"
      ],
      "metadata": {
        "id": "9WOHxdO2Qmsv"
      },
      "execution_count": 12,
      "outputs": []
    },
    {
      "cell_type": "markdown",
      "source": [
        "Model summary"
      ],
      "metadata": {
        "id": "oXKzF1HhSyDc"
      }
    },
    {
      "cell_type": "code",
      "source": [
        "model_temp.summary()"
      ],
      "metadata": {
        "colab": {
          "base_uri": "https://localhost:8080/"
        },
        "id": "V8OxqwPTTbtV",
        "outputId": "60b3f7e2-c266-4dc6-dcf9-9177cfefba2f"
      },
      "execution_count": 13,
      "outputs": [
        {
          "output_type": "stream",
          "name": "stdout",
          "text": [
            "Model: \"sequential\"\n",
            "_________________________________________________________________\n",
            " Layer (type)                Output Shape              Param #   \n",
            "=================================================================\n",
            " dense (Dense)               (None, 128)               100480    \n",
            "                                                                 \n",
            " activation (Activation)     (None, 128)               0         \n",
            "                                                                 \n",
            " dense_1 (Dense)             (None, 128)               16512     \n",
            "                                                                 \n",
            " activation_1 (Activation)   (None, 128)               0         \n",
            "                                                                 \n",
            " dense_2 (Dense)             (None, 10)                1290      \n",
            "                                                                 \n",
            " activation_2 (Activation)   (None, 10)                0         \n",
            "                                                                 \n",
            "=================================================================\n",
            "Total params: 118,282\n",
            "Trainable params: 118,282\n",
            "Non-trainable params: 0\n",
            "_________________________________________________________________\n"
          ]
        }
      ]
    },
    {
      "cell_type": "markdown",
      "source": [
        "Compile model"
      ],
      "metadata": {
        "id": "Pm4sv0BbT1Ul"
      }
    },
    {
      "cell_type": "code",
      "source": [
        "model_temp.compile(optimizer = SGD(), loss = 'categorical_crossentropy', metrics = ['accuracy'])"
      ],
      "metadata": {
        "id": "LK6I3C1lT32e"
      },
      "execution_count": 14,
      "outputs": []
    },
    {
      "cell_type": "markdown",
      "source": [
        "Train model"
      ],
      "metadata": {
        "id": "duxlaeckUXUI"
      }
    },
    {
      "cell_type": "code",
      "source": [
        "history = model_temp.fit(x_train_flatten, y_train_categorical, batch_size=128,\n",
        "                         epochs=20, verbose=1, validation_split =0.2)"
      ],
      "metadata": {
        "colab": {
          "base_uri": "https://localhost:8080/"
        },
        "id": "6XAIj27bUYv5",
        "outputId": "8e20f9e2-2931-4391-c1fe-925962b42d9b"
      },
      "execution_count": 15,
      "outputs": [
        {
          "output_type": "stream",
          "name": "stdout",
          "text": [
            "Epoch 1/20\n",
            "375/375 [==============================] - 3s 7ms/step - loss: 1.4661 - accuracy: 0.6259 - val_loss: 0.7311 - val_accuracy: 0.8462\n",
            "Epoch 2/20\n",
            "375/375 [==============================] - 3s 7ms/step - loss: 0.5829 - accuracy: 0.8578 - val_loss: 0.4425 - val_accuracy: 0.8892\n",
            "Epoch 3/20\n",
            "375/375 [==============================] - 2s 6ms/step - loss: 0.4324 - accuracy: 0.8838 - val_loss: 0.3692 - val_accuracy: 0.9015\n",
            "Epoch 4/20\n",
            "375/375 [==============================] - 2s 7ms/step - loss: 0.3762 - accuracy: 0.8956 - val_loss: 0.3332 - val_accuracy: 0.9066\n",
            "Epoch 5/20\n",
            "375/375 [==============================] - 2s 6ms/step - loss: 0.3444 - accuracy: 0.9033 - val_loss: 0.3098 - val_accuracy: 0.9121\n",
            "Epoch 6/20\n",
            "375/375 [==============================] - 2s 6ms/step - loss: 0.3220 - accuracy: 0.9096 - val_loss: 0.2930 - val_accuracy: 0.9162\n",
            "Epoch 7/20\n",
            "375/375 [==============================] - 2s 6ms/step - loss: 0.3049 - accuracy: 0.9135 - val_loss: 0.2787 - val_accuracy: 0.9221\n",
            "Epoch 8/20\n",
            "375/375 [==============================] - 2s 7ms/step - loss: 0.2903 - accuracy: 0.9179 - val_loss: 0.2685 - val_accuracy: 0.9227\n",
            "Epoch 9/20\n",
            "375/375 [==============================] - 2s 6ms/step - loss: 0.2781 - accuracy: 0.9209 - val_loss: 0.2580 - val_accuracy: 0.9266\n",
            "Epoch 10/20\n",
            "375/375 [==============================] - 2s 6ms/step - loss: 0.2672 - accuracy: 0.9239 - val_loss: 0.2484 - val_accuracy: 0.9292\n",
            "Epoch 11/20\n",
            "375/375 [==============================] - 2s 7ms/step - loss: 0.2573 - accuracy: 0.9270 - val_loss: 0.2415 - val_accuracy: 0.9317\n",
            "Epoch 12/20\n",
            "375/375 [==============================] - 2s 6ms/step - loss: 0.2484 - accuracy: 0.9297 - val_loss: 0.2342 - val_accuracy: 0.9333\n",
            "Epoch 13/20\n",
            "375/375 [==============================] - 2s 6ms/step - loss: 0.2401 - accuracy: 0.9320 - val_loss: 0.2270 - val_accuracy: 0.9348\n",
            "Epoch 14/20\n",
            "375/375 [==============================] - 2s 6ms/step - loss: 0.2325 - accuracy: 0.9341 - val_loss: 0.2212 - val_accuracy: 0.9373\n",
            "Epoch 15/20\n",
            "375/375 [==============================] - 2s 6ms/step - loss: 0.2251 - accuracy: 0.9359 - val_loss: 0.2142 - val_accuracy: 0.9396\n",
            "Epoch 16/20\n",
            "375/375 [==============================] - 4s 10ms/step - loss: 0.2188 - accuracy: 0.9382 - val_loss: 0.2095 - val_accuracy: 0.9405\n",
            "Epoch 17/20\n",
            "375/375 [==============================] - 2s 6ms/step - loss: 0.2120 - accuracy: 0.9406 - val_loss: 0.2053 - val_accuracy: 0.9417\n",
            "Epoch 18/20\n",
            "375/375 [==============================] - 2s 6ms/step - loss: 0.2061 - accuracy: 0.9412 - val_loss: 0.1993 - val_accuracy: 0.9444\n",
            "Epoch 19/20\n",
            "375/375 [==============================] - 2s 6ms/step - loss: 0.2002 - accuracy: 0.9433 - val_loss: 0.1955 - val_accuracy: 0.9457\n",
            "Epoch 20/20\n",
            "375/375 [==============================] - 2s 6ms/step - loss: 0.1948 - accuracy: 0.9451 - val_loss: 0.1915 - val_accuracy: 0.9451\n"
          ]
        }
      ]
    },
    {
      "cell_type": "markdown",
      "source": [
        "Plot accuracy"
      ],
      "metadata": {
        "id": "KhT7NkhbVqjS"
      }
    },
    {
      "cell_type": "code",
      "source": [
        "plt.plot(history.history['accuracy'])\n",
        "plt.plot(history.history['val_accuracy'])\n",
        "plt.title('Model accuracy')\n",
        "plt.ylabel('accuracy')\n",
        "plt.xlabel('iteration')\n",
        "plt.legend(['training', 'validation'], loc='lower right')\n",
        "plt.show()"
      ],
      "metadata": {
        "colab": {
          "base_uri": "https://localhost:8080/",
          "height": 295
        },
        "id": "qjV9k022X_2o",
        "outputId": "9d6aa161-8a04-449e-9fab-bc13e7edbd31"
      },
      "execution_count": 16,
      "outputs": [
        {
          "output_type": "display_data",
          "data": {
            "text/plain": [
              "<Figure size 432x288 with 1 Axes>"
            ],
            "image/png": "[encoded data removed]"
          },
          "metadata": {
            "needs_background": "light"
          }
        }
      ]
    },
    {
      "cell_type": "markdown",
      "source": [
        "Plot loss"
      ],
      "metadata": {
        "id": "hVS0R63kY0Uo"
      }
    },
    {
      "cell_type": "code",
      "source": [
        "plt.plot(history.history['loss'])\n",
        "plt.plot(history.history['val_loss'])\n",
        "plt.title('Model cost')\n",
        "plt.ylabel('cost')\n",
        "plt.xlabel('iteration')\n",
        "plt.legend(['training', 'validation'], loc='upper right')\n",
        "plt.show()"
      ],
      "metadata": {
        "colab": {
          "base_uri": "https://localhost:8080/",
          "height": 295
        },
        "id": "9Lh_8ns3Y3wK",
        "outputId": "76ce9c97-efa2-46c1-b569-4c0b350a1bbf"
      },
      "execution_count": 17,
      "outputs": [
        {
          "output_type": "display_data",
          "data": {
            "text/plain": [
              "<Figure size 432x288 with 1 Axes>"
            ],
            "image/png": "[encoded data removed]"
          },
          "metadata": {
            "needs_background": "light"
          }
        }
      ]
    }
  ]
}